{
 "cells": [
  {
   "cell_type": "code",
   "execution_count": null,
   "id": "0fa833c5",
   "metadata": {
    "editable": true,
    "slideshow": {
     "slide_type": ""
    },
    "tags": []
   },
   "outputs": [],
   "source": [
    "import numpy as np\n",
    "import matplotlib.pyplot as plt\n",
    "import os\n",
    "from sklearn.metrics import mean_squared_error\n",
    "import pickle\n",
    "import pandas as pd\n",
    "from sklearn.model_selection import train_test_split\n",
    "from sklearn.linear_model import LogisticRegression\n",
    "from sklearn.metrics import accuracy_score\n",
    "from sklearn.model_selection import KFold\n",
    "from sklearn.inspection import DecisionBoundaryDisplay\n",
    "from sklearn.preprocessing import StandardScaler\n",
    "from mlxtend.plotting import plot_decision_regions\n",
    "from sklearn import datasets\n",
    "from sklearn import preprocessing\n",
    "from utils import md\n",
    "\n",
    "# Formatting options and variables\n",
    "params = { 'figure.figsize': (15.,5.),\n",
    "          'axes.labelsize': 20,\n",
    "          'xtick.labelsize': 16,\n",
    "          'ytick.labelsize': 16,\n",
    "          'legend.fontsize': 14,\n",
    "         # 'font.sans-serif': 'Arial'\n",
    "         }\n",
    "plt.rcParams.update(params)\n",
    "colors = [\"#377eb8\", \"#ff7f00\", \"#4daf4a\"]"
   ]
  },
  {
   "cell_type": "markdown",
   "id": "e77168c9-ecb4-4f5c-89f3-f2344a6ce96a",
   "metadata": {},
   "source": []
  },
  {
   "cell_type": "code",
   "execution_count": null,
   "id": "6b310a7c-5a5e-49c7-80ba-d65246a74157",
   "metadata": {},
   "outputs": [],
   "source": [
    "md('# Inferred parameters provided in `model_parameters.csv`')\n",
    "data = pd.read_csv(\"model_parameters.csv\", index_col=0)\n",
    "X = data.drop(['label'], axis=1)\n",
    "y = data['label']\n",
    "\n",
    "data"
   ]
  },
  {
   "cell_type": "code",
   "execution_count": null,
   "id": "4026fdbd-87ec-4443-83eb-cb50839c7578",
   "metadata": {},
   "outputs": [],
   "source": [
    "md('## Showing exmples of random splitting of the dataset into training and test subsets')\n",
    "k = 5 # An aexmple of 5\n",
    "kf = KFold(n_splits=k, shuffle=True)\n",
    "for i in range(20):\n",
    "    for train_fold, test_fold in kf.split(X):\n",
    "        print(train_fold, test_fold)"
   ]
  },
  {
   "cell_type": "code",
   "execution_count": null,
   "id": "5b01fae2",
   "metadata": {},
   "outputs": [],
   "source": [
    "k = 5\n",
    "kf = KFold(n_splits=k, shuffle=True)\n",
    "model = LogisticRegression(penalty=None, max_iter=1000)\n",
    "\n",
    "acc_score_ = []\n",
    "\n",
    "for i in range(20):\n",
    "    for train_fold, test_fold in kf.split(X):\n",
    "        X_train , X_test = X.iloc[train_fold,:], X.iloc[test_fold,:]\n",
    "        y_train , y_test = y.iloc[train_fold] , y.iloc[test_fold]\n",
    "     \n",
    "        model.fit(X_train,y_train)\n",
    "        pred_values = model.predict(X_test)\n",
    "        acc = accuracy_score(pred_values , y_test)\n",
    "        acc_score_.append(acc)"
   ]
  },
  {
   "cell_type": "code",
   "execution_count": null,
   "id": "79b7d1a2",
   "metadata": {},
   "outputs": [],
   "source": [
    "print(\"Accuracy (mean and standard deviation over splitting)\", np.mean(acc_score_), np.std(acc_score_))"
   ]
  },
  {
   "cell_type": "code",
   "execution_count": null,
   "id": "6a1ac5d4",
   "metadata": {},
   "outputs": [],
   "source": [
    "md(\"## Training logistic regression\")\n",
    "logreg = LogisticRegression(penalty=None, max_iter=1000)\n",
    "logreg.fit(X, y)"
   ]
  },
  {
   "cell_type": "code",
   "execution_count": null,
   "id": "b00d15ea",
   "metadata": {
    "editable": true,
    "slideshow": {
     "slide_type": ""
    },
    "tags": []
   },
   "outputs": [],
   "source": [
    "md('## Projections of the decision boundaries')\n",
    "import warnings\n",
    "# Disable warnings about missing feature names\n",
    "warnings.filterwarnings(\"ignore\", message=\"X does not have valid feature names, but LogisticRegression was fitted with feature names\")\n",
    "\n",
    "scatter_kwargs = {'s': 100,'alpha': 0.9}\n",
    "contourf_kwargs = {'alpha': 0.7}\n",
    "\n",
    "logreg = LogisticRegression(penalty=None, max_iter=1000)\n",
    "logreg.fit(X, y)\n",
    "\n",
    "fig, axs = plt.subplots(nrows=1, ncols=3, figsize=(15,4))\n",
    "\n",
    "plot_decision_regions(np.array(X), np.array(y), clf=logreg, legend=0, ax=axs[0],\n",
    "                      feature_index=[0,1],\n",
    "                      filler_feature_values={2: np.mean(np.array(X)[:,2])}, \n",
    "                      filler_feature_ranges={2: np.mean(np.array(X)[:,2])*20},\n",
    "                      scatter_kwargs=scatter_kwargs,\n",
    "                      contourf_kwargs=contourf_kwargs)\n",
    "axs[0].set_xlabel(r\"$b$\")\n",
    "axs[0].set_ylabel(r\"$a$\")\n",
    "\n",
    "\n",
    "plot_decision_regions(np.array(X), np.array(y), clf=logreg, legend=0, ax=axs[1],\n",
    "                      feature_index=[1,2],\n",
    "                      filler_feature_values={0: np.mean(np.array(X)[:,0])}, \n",
    "                      filler_feature_ranges={0: np.mean(np.abs(np.array(X))[:,0])*100},\n",
    "                      scatter_kwargs=scatter_kwargs,\n",
    "                      contourf_kwargs=contourf_kwargs)\n",
    "axs[1].set_xlabel(r\"$a$\")\n",
    "axs[1].set_ylabel(r\"$\\epsilon$\")\n",
    "\n",
    "plot_decision_regions(np.array(X), np.array(y), clf=logreg, legend=0, ax=axs[2],\n",
    "                      feature_index=[0,2],\n",
    "                      filler_feature_values={1: np.mean(np.array(X)[:,1])}, \n",
    "                      filler_feature_ranges={1: np.mean(np.abs(np.array(X))[:,1])*100},\n",
    "                      scatter_kwargs=scatter_kwargs,\n",
    "                      contourf_kwargs=contourf_kwargs)\n",
    "axs[2].set_xlabel(r\"$b$\")\n",
    "axs[2].set_ylabel(r\"$\\epsilon$\") \n",
    "\n",
    "\n",
    "handles, labels = axs[0].get_legend_handles_labels()\n",
    "fig.legend(handles, [\"AA patients\", \"AVM patients\", \"Treated vessels\"], loc='upper right', bbox_to_anchor=(1,1.1), ncol=3, \n",
    "           frameon=False, fontsize=15)\n",
    "\n",
    "fig.tight_layout()\n",
    "\n",
    "# plt.savefig('../figures/classification_2d.pdf', format='pdf', bbox_inches='tight', transparent=True)"
   ]
  }
 ],
 "metadata": {
  "kernelspec": {
   "display_name": "Python 3 (ipykernel)",
   "language": "python",
   "name": "python3"
  },
  "language_info": {
   "codemirror_mode": {
    "name": "ipython",
    "version": 3
   },
   "file_extension": ".py",
   "mimetype": "text/x-python",
   "name": "python",
   "nbconvert_exporter": "python",
   "pygments_lexer": "ipython3",
   "version": "3.12.11"
  }
 },
 "nbformat": 4,
 "nbformat_minor": 5
}
