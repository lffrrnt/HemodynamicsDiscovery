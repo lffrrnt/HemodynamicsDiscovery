{
 "cells": [
  {
   "cell_type": "code",
   "execution_count": null,
   "id": "0fa833c5",
   "metadata": {
    "editable": true,
    "slideshow": {
     "slide_type": ""
    },
    "tags": []
   },
   "outputs": [],
   "source": [
    "import numpy as np\n",
    "import matplotlib.pyplot as plt\n",
    "import warnings\n",
    "# Disable pysindy to generate a deprecation warning\n",
    "warnings.filterwarnings(\"ignore\", message=\"pkg_resources is deprecated\")\n",
    "import pysindy as ps\n",
    "import scipy as sp\n",
    "import os\n",
    "from sklearn.metrics import mean_squared_error\n",
    "import pickle\n",
    "from matplotlib import gridspec\n",
    "import pandas as pd\n",
    "from scipy import stats\n",
    "import matplotlib.legend_handler\n",
    "from utils import Dataset"
   ]
  },
  {
   "cell_type": "code",
   "execution_count": null,
   "id": "da65f359",
   "metadata": {},
   "outputs": [],
   "source": [
    "params = { 'figure.figsize': (15.,5.),\n",
    "          'axes.labelsize': 22,\n",
    "          'xtick.labelsize': 16,\n",
    "          'ytick.labelsize': 16,\n",
    "          'legend.fontsize': 16,\n",
    "          # 'font.sans-serif': 'Arial', # RB: This does not work on unix wihtout fonts installed\n",
    "          'lines.linewidth': 2}\n",
    "plt.rcParams.update(params)"
   ]
  },
  {
   "cell_type": "code",
   "execution_count": null,
   "id": "f358f84c",
   "metadata": {},
   "outputs": [],
   "source": [
    "colors = [\"#377eb8\", \"#ff7f00\", \"#4daf4a\"]"
   ]
  },
  {
   "cell_type": "markdown",
   "id": "a2d5a563-819a-44e0-8d65-247b56875955",
   "metadata": {},
   "source": [
    "## Read the data of AVM patients"
   ]
  },
  {
   "cell_type": "code",
   "execution_count": null,
   "id": "480cd13e",
   "metadata": {},
   "outputs": [],
   "source": [
    "# folderpath = r\"../data/clinical_data/\"\n",
    "# filepaths = [os.path.join(folderpath, name) for name in os.listdir(folderpath)]\n",
    "# patients = []\n",
    "# for i in range(len(filepaths)):\n",
    "#     patients.append(str.split(os.path.basename(filepaths[i]), '-')[0])\n",
    "# patients = np.unique(patients)"
   ]
  },
  {
   "cell_type": "code",
   "execution_count": null,
   "id": "f67b8d80",
   "metadata": {},
   "outputs": [],
   "source": [
    "# patients_AA = ['G2', 'K1', 'K3', 'R1', 'S2']\n",
    "# patients_AVM = ['G1', 'K2', 'L1', 'S1', 'S3']"
   ]
  },
  {
   "cell_type": "code",
   "execution_count": null,
   "id": "7f667787",
   "metadata": {},
   "outputs": [],
   "source": [
    "dataset = Dataset('data/AVM')\n",
    "P = dataset.all_pressures()\n",
    "V = dataset.all_velocities()\n",
    "# for i in range(len(filepaths)):\n",
    "#     if (str.split(os.path.basename(filepaths[i]), '-')[1] == 'AVM'):\n",
    "#         P[i] = np.loadtxt(filepaths[i]+\"/data_p.txt\")\n",
    "#         V[i] = np.loadtxt(filepaths[i]+\"/data_v.txt\")"
   ]
  },
  {
   "cell_type": "code",
   "execution_count": null,
   "id": "2c15a5cf-bc5d-46ce-abcc-46f788056d21",
   "metadata": {},
   "outputs": [],
   "source": [
    "# for i in P.keys():\n",
    "#     P[i] = P[i]*100 #pressure in mmHg"
   ]
  },
  {
   "cell_type": "code",
   "execution_count": null,
   "id": "71c11b3b-7294-4929-97f9-1df06ca2a0c1",
   "metadata": {},
   "outputs": [],
   "source": [
    "fig, axs = plt.subplots(ncols=1, nrows=5, sharex=True, sharey=True, figsize=(10,4))\n",
    "axs = axs.ravel()\n",
    "for idx, i in enumerate(list(P.keys())[:5]):\n",
    "    axs[idx].plot(P[i])"
   ]
  },
  {
   "cell_type": "code",
   "execution_count": null,
   "id": "f3bb85be",
   "metadata": {},
   "outputs": [],
   "source": [
    "def Heun(f, y0, t):  # Heun integrator\n",
    "    y = np.zeros((len(t),len(y0)))\n",
    "    y[0] = y0\n",
    "    for i in range(len(t)-1):\n",
    "        dt = t[i+1] - t[i]\n",
    "        y_tilde = y[i] + dt*f(y[i],t[i],v[i]) # Euler formulation\n",
    "        y[i+1] = y[i] + 0.5*dt*(f(y[i],t[i],v[i])+f(y_tilde,t[i]+dt,v[i+1]))\n",
    "    return y"
   ]
  },
  {
   "cell_type": "code",
   "execution_count": null,
   "id": "85778ed7",
   "metadata": {},
   "outputs": [],
   "source": [
    "dt = 1/200"
   ]
  },
  {
   "cell_type": "markdown",
   "id": "da6fdac1-0cbf-4bda-9283-2a9a1d8347fc",
   "metadata": {},
   "source": [
    "## state variables"
   ]
  },
  {
   "cell_type": "code",
   "execution_count": null,
   "id": "97957b3d-a170-4b65-b659-23f418a4d6af",
   "metadata": {},
   "outputs": [],
   "source": [
    "# p and pdot are the state variables for a second order ODE model discovery\n",
    "states = {}\n",
    "for i in P.keys():\n",
    "    states[i] = np.vstack([P[i], np.gradient(P[i], dt), V[i]])"
   ]
  },
  {
   "cell_type": "markdown",
   "id": "812231e5-c959-4d32-8218-9ca41f5b2ba9",
   "metadata": {},
   "source": [
    "## construct the candidate library"
   ]
  },
  {
   "cell_type": "code",
   "execution_count": null,
   "id": "e953aff7-0f1a-46f4-8f60-c0fc33747320",
   "metadata": {},
   "outputs": [],
   "source": [
    "lib_V = ps.PolynomialLibrary(degree=1, include_bias=False, include_interaction=False)\n",
    "lib_P = ps.PolynomialLibrary(degree=3, include_bias=False, include_interaction=True)\n",
    "lib = ps.GeneralizedLibrary([lib_P, lib_V], inputs_per_library=np.array([[0,1],[2,2]]))"
   ]
  },
  {
   "cell_type": "code",
   "execution_count": null,
   "id": "033e3119-ab7a-4dea-8200-d45967903513",
   "metadata": {},
   "outputs": [],
   "source": [
    "feature_names = [\"p\", \"p'\", \"v\"]"
   ]
  },
  {
   "cell_type": "markdown",
   "id": "aaa0da11-828b-4d6a-8977-351a81353274",
   "metadata": {},
   "source": [
    "## calculate the numerical derivatives"
   ]
  },
  {
   "cell_type": "code",
   "execution_count": null,
   "id": "5557a477-1033-44a1-981d-f7ea32233031",
   "metadata": {},
   "outputs": [],
   "source": [
    "#for the left hand side of the ODEs, we need pdot and pdotdot\n",
    "derivatives = {}\n",
    "for i in P.keys():\n",
    "    derivatives[i] = np.zeros_like(states[i])\n",
    "    for j in range(3):\n",
    "        derivatives[i][j] = np.gradient(states[i][j,:], dt)"
   ]
  },
  {
   "cell_type": "markdown",
   "id": "1c08721e-3bb1-4bed-9797-065d08a8d257",
   "metadata": {},
   "source": [
    "## model discovery"
   ]
  },
  {
   "cell_type": "code",
   "execution_count": null,
   "id": "d8e7e03a-5f9d-4fa4-be5e-98468757f8d2",
   "metadata": {},
   "outputs": [],
   "source": [
    "scikit_optimizer = ps.STLSQ(threshold=.1, alpha=0., fit_intercept=False)\n",
    "coeff = {}\n",
    "for i in P.keys():\n",
    "    model = ps.SINDy(optimizer=scikit_optimizer, feature_library=lib, \n",
    "                        feature_names=feature_names).fit(states[i].T, t=dt, x_dot=derivatives[i][:2].T, quiet=True)\n",
    "    coeff[i] = model.coefficients()\n",
    "    model.print(lhs=['dotp', 'ddotp', 'v'])"
   ]
  },
  {
   "cell_type": "markdown",
   "id": "3dc546d5-d959-4232-909b-40735089235f",
   "metadata": {},
   "source": [
    "## simulations of predicted models"
   ]
  },
  {
   "cell_type": "code",
   "execution_count": null,
   "id": "42585609-7027-4467-843e-9126c1eb4d91",
   "metadata": {},
   "outputs": [],
   "source": [
    "def predicted_pressure(u,t,v):\n",
    "    return np.array([u[1],\n",
    "                     coef[0]*u[0] + coef[1]*u[1] + coef[2]*u[0]**2 + coef[3]*u[0]*u[1] + coef[4]*u[1]**2 \n",
    "                     + coef[5]*u[0]**3 + coef[6]*(u[0]**2)*u[1] + coef[7]*u[0]*(u[1]**2) + coef[8]*u[1]**3 + coef[9]*v])"
   ]
  },
  {
   "cell_type": "code",
   "execution_count": null,
   "id": "e272da81-2377-49ca-86fe-c9c0adf091e0",
   "metadata": {},
   "outputs": [],
   "source": [
    "import warnings\n",
    "# Some models, which may cause overflow, are discarded from candicates\n",
    "warnings.filterwarnings(\"ignore\", message=\"overflow encountered in scalar power\")\n",
    "warnings.filterwarnings(\"ignore\", message=\"invalid value encountered in scalar multiply\")\n",
    "\n",
    "predicted_p = {}\n",
    "for i in P.keys():\n",
    "    v = V[i] #include the emprical velocity in the simulations of predicted models\n",
    "    coef = coeff[i][1]\n",
    "    time = np.array([j*dt for j in range(len(P[i]))])\n",
    "    predicted_p[i] = Heun(predicted_pressure, [P[i][0], 0.], time) #initial value is chosen from the empirical pressure"
   ]
  },
  {
   "cell_type": "code",
   "execution_count": null,
   "id": "f70d3927-534e-493f-a36e-d3f7d2446362",
   "metadata": {
    "editable": true,
    "slideshow": {
     "slide_type": ""
    },
    "tags": []
   },
   "outputs": [],
   "source": [
    "non_problematic_keys = ['K2.BEFORE', 'K2.DURING', 'K2.AFTER', 'G1.BEFORE', 'S3.DURING', 'S3.AFTER', 'L1.BEFORE', \n",
    "                         'L1.DURING', 'L1.AFTER', 'S1.BEFORE', 'S1.DURING', 'S1.AFTER']\n"
   ]
  },
  {
   "cell_type": "markdown",
   "id": "2987067e-f7f0-4955-abd3-de859fa6b821",
   "metadata": {},
   "source": [
    "## comparison between the simulated pressure and empirical pressure"
   ]
  },
  {
   "cell_type": "code",
   "execution_count": null,
   "id": "4a64e5b5-b1e2-454e-9ed1-3fe78040cd3b",
   "metadata": {},
   "outputs": [],
   "source": [
    "fig, axs = plt.subplots(nrows=12, ncols=1, figsize=(10,16), sharex=True)\n",
    "axs = axs.ravel()\n",
    "for idx, i in enumerate(non_problematic_keys):\n",
    "    axs[idx].plot(np.array([k*dt for k in range(len(P[i]))]), P[i], label=\"Experimental pressure\")\n",
    "    axs[idx].plot(np.array([k*dt for k in range(len(P[i]))]), predicted_p[i][:,0], label=\"Simulated pressure\")\n",
    "    \n",
    "axs[11].set_xlabel(\"Time (s)\")\n",
    "axs[5].set_ylabel(\"Pressure (mmHg)\")\n",
    "axs[0].legend(frameon=False, fontsize=12)\n",
    "fig.tight_layout()"
   ]
  },
  {
   "cell_type": "code",
   "execution_count": null,
   "id": "0e094e22-1541-4354-9c0e-699a934af0de",
   "metadata": {},
   "outputs": [],
   "source": []
  }
 ],
 "metadata": {
  "kernelspec": {
   "display_name": "Python 3 (ipykernel)",
   "language": "python",
   "name": "python3"
  },
  "language_info": {
   "codemirror_mode": {
    "name": "ipython",
    "version": 3
   },
   "file_extension": ".py",
   "mimetype": "text/x-python",
   "name": "python",
   "nbconvert_exporter": "python",
   "pygments_lexer": "ipython3",
   "version": "3.12.11"
  }
 },
 "nbformat": 4,
 "nbformat_minor": 5
}
